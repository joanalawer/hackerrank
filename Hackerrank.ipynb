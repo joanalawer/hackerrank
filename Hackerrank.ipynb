{
 "cells": [
  {
   "cell_type": "markdown",
   "id": "27170a23",
   "metadata": {},
   "source": [
    "### DAY 4/30: Class vs Instance"
   ]
  },
  {
   "cell_type": "code",
   "execution_count": null,
   "id": "77f87ed5",
   "metadata": {},
   "outputs": [],
   "source": [
    "class Person:\n",
    "    def __init__(self,initialAge):\n",
    "        # Add some more code to run some checks on initialAge\n",
    "        if initialAge > 0:\n",
    "            self.initialAge = initialAge\n",
    "        elif initialAge < 0:\n",
    "            self.initialAge = 0\n",
    "            print(\"Age is not valid, setting age to 0.\")\n",
    "      \n",
    "    def amIOld(self):\n",
    "        # Do some computations in here and print out the correct statement to the console\n",
    "        if self.initialAge < 13:\n",
    "            print(\"You are young\")\n",
    "        elif self.initialAge >= 13 and self.initialAge < 18:\n",
    "            print(\"You are a teenager.\")\n",
    "        else:\n",
    "            print(\"You are old.\")\n",
    "    def yearPasses(self):\n",
    "        # Increment the age of the person in here\n",
    "        self.initialAge += 1\n",
    "\n",
    "t = int(input())\n",
    "for i in range(0, t):\n",
    "    age = int(input())         \n",
    "    p = Person(age)  \n",
    "    p.amIOld()\n",
    "    for j in range(0, 3):\n",
    "        p.yearPasses()       \n",
    "    p.amIOld()\n",
    "    print(\"\")"
   ]
  },
  {
   "cell_type": "markdown",
   "id": "9ec5ede6",
   "metadata": {},
   "source": [
    "### DAY 5/30: Loops"
   ]
  },
  {
   "cell_type": "code",
   "execution_count": null,
   "id": "51a99f30",
   "metadata": {},
   "outputs": [],
   "source": [
    "#!/bin/python3\n",
    "\n",
    "import math\n",
    "import os\n",
    "import random\n",
    "import re\n",
    "import sys\n",
    "\n",
    "\n",
    "\n",
    "if __name__ == '__main__':\n",
    "    n = int(input().strip())\n",
    "# My code\n",
    "i = 0\n",
    "while (i < 10):\n",
    "    i = i + 1\n",
    "    print(n, \"x\", i, \"=\", n*i)"
   ]
  },
  {
   "cell_type": "markdown",
   "id": "6a311431",
   "metadata": {},
   "source": [
    "### DAY 6/30: Review"
   ]
  },
  {
   "cell_type": "code",
   "execution_count": null,
   "id": "f3a29916",
   "metadata": {},
   "outputs": [],
   "source": [
    "# Editted code from ayeshaghazi\n",
    "T = int(input())\n",
    "for i in range(T):\n",
    "    S = input()\n",
    "    even_indexed = []\n",
    "    odd_indexed = []\n",
    "    for i in range(len(S)):\n",
    "        if i % 2 == 0:\n",
    "            even_indexed.append(S[i])\n",
    "        else:\n",
    "            odd_indexed.append(S[i])\n",
    "        s = \"\"\n",
    "    print(s.join(even_indexed), s.join(odd_indexed))"
   ]
  },
  {
   "cell_type": "markdown",
   "id": "95397407",
   "metadata": {},
   "source": [
    "### DAY 7/30: Arrays"
   ]
  },
  {
   "cell_type": "code",
   "execution_count": null,
   "id": "71d560b7",
   "metadata": {},
   "outputs": [],
   "source": [
    "#!/bin/python3\n",
    "\n",
    "import math\n",
    "import os\n",
    "import random\n",
    "import re\n",
    "import sys\n",
    "\n",
    "\n",
    "\n",
    "if __name__ == '__main__':\n",
    "    n = int(input().strip())\n",
    "\n",
    "    arr = list(map(int, input().rstrip().split()))\n",
    "# My code\n",
    "print(*arr[::-1])"
   ]
  }
 ],
 "metadata": {
  "kernelspec": {
   "display_name": "Python 3 (ipykernel)",
   "language": "python",
   "name": "python3"
  },
  "language_info": {
   "codemirror_mode": {
    "name": "ipython",
    "version": 3
   },
   "file_extension": ".py",
   "mimetype": "text/x-python",
   "name": "python",
   "nbconvert_exporter": "python",
   "pygments_lexer": "ipython3",
   "version": "3.10.6"
  }
 },
 "nbformat": 4,
 "nbformat_minor": 5
}
